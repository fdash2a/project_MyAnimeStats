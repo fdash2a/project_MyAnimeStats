{
  "nbformat": 4,
  "nbformat_minor": 0,
  "metadata": {
    "colab": {
      "provenance": []
    },
    "kernelspec": {
      "name": "python3",
      "display_name": "Python 3"
    },
    "language_info": {
      "name": "python"
    }
  },
  "cells": [
    {
      "cell_type": "markdown",
      "metadata": {
        "id": "efbf3fd3-a719-4163-9e70-d563a0e4eb1f"
      },
      "source": [
        "# Анализ аниме на MyAnimeList\n"
      ]
    },
    {
      "cell_type": "markdown",
      "metadata": {
        "id": "04f37294-b3e9-4f25-bdf5-ba05fb8b244e"
      },
      "source": [
        "## Описание\n",
        "\n",
        "Этот проект направлен на анализ аниме с сайта MyAnimeList с целью выявления зависимостей между рейтингом аниме и такими факторами, как жанр, год выпуска и студия-производитель. Я собрала данные о топ-100 аниме по рейтингу, а также 20 случайных аниме с низким рейтингом для сравнения.\n",
        "\n",
        "Проект реализуется с использованием языка программирования Python. Данные для анализа берутся с сайта MyAnimeList (https://myanimelist.net/) через открытое API Jikan.\n",
        "\n",
        "Каждое аниме включает информацию о названии, оценке, жанрах, студии-производителе и годе выпуска. Собранные данные сохраняются в формате JSON.\n"
      ]
    },
    {
      "cell_type": "code",
      "execution_count": 48,
      "metadata": {
        "id": "587f8bb0-c7c8-4e91-8381-eed2abb5df33"
      },
      "outputs": [],
      "source": [
        "import requests\n",
        "import json\n",
        "import time\n",
        "import pandas as pd\n",
        "import re\n",
        "import seaborn as sns\n",
        "import matplotlib.pyplot as plt"
      ]
    },
    {
      "cell_type": "markdown",
      "metadata": {
        "id": "0c7b3f7c-fb64-4373-ab47-a4e3d9d88696"
      },
      "source": [
        "## Загрузка данных"
      ]
    },
    {
      "cell_type": "markdown",
      "metadata": {
        "id": "e58652b3-6dcc-4786-93cb-fa2980d785ff"
      },
      "source": [
        "Парсинг данных будет представлен в файле parsing.py, однако продублирую код получения топ-100 аниме по рейтингу, а также 20 случайных аниме с низким рейтингом. Для парсинга данных используется неофициальное Jikan API, которое предоставляет доступ к информации с MyAnimeList. На выходе получим JSON-файл с готовыми данными об аниме\n",
        "<br>\n",
        "<br>\n",
        "Рассмотрим каждую функцию:\n",
        "<br>\n",
        "1. get_top_100_anime(limit=100). Она получает топ-аниме с наивысшими рейтингами. Делает запросы к Jikan API постранично (по 25 штук на странице), собирает название, оценку, жанры, студию и год, а потом возвращает список из 100 аниме.\n",
        "2. get_low_rated_anime(page=200, limit=20). Извлекает 20 аниме с низкими оценками с конкретной страницы. Тут было проведен эксперимент для поиска страницы с аниме с р=низким рейтингом. В итоге остановилась на 200 странице, где аниме уже были с рейтингом около 5. Внитри функции лежит отправление запроса к 200-й странице рейтинга, берутся первые 20 аниме с этой страницы и возвращается отформатированный список.\n",
        "3. save_to_json(data, filename=\"anime_data.json\"). Она сохраняет собранные данные в JSON-файл. Открываем файл в режиме записи, сохраняем список словарей в формате UTF-8 с отступами. Прогоняем для первой и второй функции"
      ]
    },
    {
      "cell_type": "code",
      "source": [
        "def get_top_100_anime(limit=100):\n",
        "    anime_list = []\n",
        "    per_page = 25\n",
        "    pages = limit // per_page\n",
        "    for page in range(1, pages + 1):\n",
        "        url = f\"https://api.jikan.moe/v4/top/anime?page={page}\"\n",
        "        response = requests.get(url)\n",
        "        data = response.json()\n",
        "        time.sleep(1)\n",
        "        for item in data.get('data', []):\n",
        "            anime = {\n",
        "                'title': item['title'],\n",
        "                'score': item['score'],\n",
        "                'genres': [genre['name'] for genre in item['genres']],\n",
        "                'year': item['year'],\n",
        "                'studio': item['producers'][0]['name'] if item['producers'] else None,\n",
        "                'type': 'top'\n",
        "            }\n",
        "            anime_list.append(anime)\n",
        "    return anime_list"
      ],
      "metadata": {
        "id": "R6jN5oVz7YMN"
      },
      "execution_count": 30,
      "outputs": []
    },
    {
      "cell_type": "code",
      "source": [
        "def get_low_rated_anime(page=200, limit=20):\n",
        "    url = f\"https://api.jikan.moe/v4/top/anime?page={page}&type=tv\"\n",
        "    response = requests.get(url)\n",
        "    data = response.json()\n",
        "    time.sleep(1)\n",
        "    low_rated = []\n",
        "    for item in data.get('data', [])[:limit]:\n",
        "        anime = {\n",
        "            'title': item['title'],\n",
        "            'score': item['score'],\n",
        "            'genres': [genre['name'] for genre in item['genres']],\n",
        "            'year': item['year'],\n",
        "            'studio': item['producers'][0]['name'] if item['producers'] else None,\n",
        "            'type': 'low'\n",
        "        }\n",
        "        low_rated.append(anime)\n",
        "    return low_rated"
      ],
      "metadata": {
        "id": "z7vbbLff7abt"
      },
      "execution_count": 101,
      "outputs": []
    },
    {
      "cell_type": "code",
      "source": [
        "def save_to_json(data, filename=\"anime_data.json\"):\n",
        "    with open(filename, \"w\", encoding=\"utf-8\") as f:\n",
        "        json.dump(data, f, ensure_ascii=False, indent=4)"
      ],
      "metadata": {
        "id": "_ObNyWGY7d0n"
      },
      "execution_count": 32,
      "outputs": []
    },
    {
      "cell_type": "code",
      "source": [
        "top_anime = get_top_100_anime()\n",
        "low_rated_anime = get_low_rated_anime()\n",
        "all_anime = top_anime + low_rated_anime\n",
        "save_to_json(all_anime)"
      ],
      "metadata": {
        "id": "RJTAyP937eJ9"
      },
      "execution_count": 103,
      "outputs": []
    },
    {
      "cell_type": "markdown",
      "metadata": {
        "id": "c24d2204-c15b-49b4-a870-bf83fe5d98c9"
      },
      "source": [
        "## Очистка данных и подготовка к анализу"
      ]
    },
    {
      "cell_type": "markdown",
      "source": [
        "После проведения парсинга данных и получения готового json-файла сохраним их в датасет. Так будет удобнее работать в дальнейшем"
      ],
      "metadata": {
        "id": "pRbd6PPa-i9g"
      }
    },
    {
      "cell_type": "code",
      "source": [
        "df = pd.read_json(\"anime_data.json\", encoding=\"utf-8\")\n",
        "df.head()"
      ],
      "metadata": {
        "colab": {
          "base_uri": "https://localhost:8080/",
          "height": 204
        },
        "id": "hxNmjA4w-wDU",
        "outputId": "3fc3fa34-1de8-4f52-f296-2437c9f48ae2"
      },
      "execution_count": 65,
      "outputs": [
        {
          "output_type": "execute_result",
          "data": {
            "text/plain": [
              "                                title  score  \\\n",
              "0                   Sousou no Frieren   9.30   \n",
              "1    Fullmetal Alchemist: Brotherhood   9.10   \n",
              "2                         Steins;Gate   9.07   \n",
              "3  Shingeki no Kyojin Season 3 Part 2   9.05   \n",
              "4                            Gintama°   9.05   \n",
              "\n",
              "                                genres    year          studio type  \n",
              "0          [Adventure, Drama, Fantasy]  2023.0         Aniplex  top  \n",
              "1  [Action, Adventure, Drama, Fantasy]  2009.0         Aniplex  top  \n",
              "2            [Drama, Sci-Fi, Suspense]  2011.0  Frontier Works  top  \n",
              "3            [Action, Drama, Suspense]  2019.0  Production I.G  top  \n",
              "4             [Action, Comedy, Sci-Fi]  2015.0        TV Tokyo  top  "
            ],
            "text/html": [
              "\n",
              "  <div id=\"df-655573bc-4079-4ae3-9024-a40fcd5c6daa\" class=\"colab-df-container\">\n",
              "    <div>\n",
              "<style scoped>\n",
              "    .dataframe tbody tr th:only-of-type {\n",
              "        vertical-align: middle;\n",
              "    }\n",
              "\n",
              "    .dataframe tbody tr th {\n",
              "        vertical-align: top;\n",
              "    }\n",
              "\n",
              "    .dataframe thead th {\n",
              "        text-align: right;\n",
              "    }\n",
              "</style>\n",
              "<table border=\"1\" class=\"dataframe\">\n",
              "  <thead>\n",
              "    <tr style=\"text-align: right;\">\n",
              "      <th></th>\n",
              "      <th>title</th>\n",
              "      <th>score</th>\n",
              "      <th>genres</th>\n",
              "      <th>year</th>\n",
              "      <th>studio</th>\n",
              "      <th>type</th>\n",
              "    </tr>\n",
              "  </thead>\n",
              "  <tbody>\n",
              "    <tr>\n",
              "      <th>0</th>\n",
              "      <td>Sousou no Frieren</td>\n",
              "      <td>9.30</td>\n",
              "      <td>[Adventure, Drama, Fantasy]</td>\n",
              "      <td>2023.0</td>\n",
              "      <td>Aniplex</td>\n",
              "      <td>top</td>\n",
              "    </tr>\n",
              "    <tr>\n",
              "      <th>1</th>\n",
              "      <td>Fullmetal Alchemist: Brotherhood</td>\n",
              "      <td>9.10</td>\n",
              "      <td>[Action, Adventure, Drama, Fantasy]</td>\n",
              "      <td>2009.0</td>\n",
              "      <td>Aniplex</td>\n",
              "      <td>top</td>\n",
              "    </tr>\n",
              "    <tr>\n",
              "      <th>2</th>\n",
              "      <td>Steins;Gate</td>\n",
              "      <td>9.07</td>\n",
              "      <td>[Drama, Sci-Fi, Suspense]</td>\n",
              "      <td>2011.0</td>\n",
              "      <td>Frontier Works</td>\n",
              "      <td>top</td>\n",
              "    </tr>\n",
              "    <tr>\n",
              "      <th>3</th>\n",
              "      <td>Shingeki no Kyojin Season 3 Part 2</td>\n",
              "      <td>9.05</td>\n",
              "      <td>[Action, Drama, Suspense]</td>\n",
              "      <td>2019.0</td>\n",
              "      <td>Production I.G</td>\n",
              "      <td>top</td>\n",
              "    </tr>\n",
              "    <tr>\n",
              "      <th>4</th>\n",
              "      <td>Gintama°</td>\n",
              "      <td>9.05</td>\n",
              "      <td>[Action, Comedy, Sci-Fi]</td>\n",
              "      <td>2015.0</td>\n",
              "      <td>TV Tokyo</td>\n",
              "      <td>top</td>\n",
              "    </tr>\n",
              "  </tbody>\n",
              "</table>\n",
              "</div>\n",
              "    <div class=\"colab-df-buttons\">\n",
              "\n",
              "  <div class=\"colab-df-container\">\n",
              "    <button class=\"colab-df-convert\" onclick=\"convertToInteractive('df-655573bc-4079-4ae3-9024-a40fcd5c6daa')\"\n",
              "            title=\"Convert this dataframe to an interactive table.\"\n",
              "            style=\"display:none;\">\n",
              "\n",
              "  <svg xmlns=\"http://www.w3.org/2000/svg\" height=\"24px\" viewBox=\"0 -960 960 960\">\n",
              "    <path d=\"M120-120v-720h720v720H120Zm60-500h600v-160H180v160Zm220 220h160v-160H400v160Zm0 220h160v-160H400v160ZM180-400h160v-160H180v160Zm440 0h160v-160H620v160ZM180-180h160v-160H180v160Zm440 0h160v-160H620v160Z\"/>\n",
              "  </svg>\n",
              "    </button>\n",
              "\n",
              "  <style>\n",
              "    .colab-df-container {\n",
              "      display:flex;\n",
              "      gap: 12px;\n",
              "    }\n",
              "\n",
              "    .colab-df-convert {\n",
              "      background-color: #E8F0FE;\n",
              "      border: none;\n",
              "      border-radius: 50%;\n",
              "      cursor: pointer;\n",
              "      display: none;\n",
              "      fill: #1967D2;\n",
              "      height: 32px;\n",
              "      padding: 0 0 0 0;\n",
              "      width: 32px;\n",
              "    }\n",
              "\n",
              "    .colab-df-convert:hover {\n",
              "      background-color: #E2EBFA;\n",
              "      box-shadow: 0px 1px 2px rgba(60, 64, 67, 0.3), 0px 1px 3px 1px rgba(60, 64, 67, 0.15);\n",
              "      fill: #174EA6;\n",
              "    }\n",
              "\n",
              "    .colab-df-buttons div {\n",
              "      margin-bottom: 4px;\n",
              "    }\n",
              "\n",
              "    [theme=dark] .colab-df-convert {\n",
              "      background-color: #3B4455;\n",
              "      fill: #D2E3FC;\n",
              "    }\n",
              "\n",
              "    [theme=dark] .colab-df-convert:hover {\n",
              "      background-color: #434B5C;\n",
              "      box-shadow: 0px 1px 3px 1px rgba(0, 0, 0, 0.15);\n",
              "      filter: drop-shadow(0px 1px 2px rgba(0, 0, 0, 0.3));\n",
              "      fill: #FFFFFF;\n",
              "    }\n",
              "  </style>\n",
              "\n",
              "    <script>\n",
              "      const buttonEl =\n",
              "        document.querySelector('#df-655573bc-4079-4ae3-9024-a40fcd5c6daa button.colab-df-convert');\n",
              "      buttonEl.style.display =\n",
              "        google.colab.kernel.accessAllowed ? 'block' : 'none';\n",
              "\n",
              "      async function convertToInteractive(key) {\n",
              "        const element = document.querySelector('#df-655573bc-4079-4ae3-9024-a40fcd5c6daa');\n",
              "        const dataTable =\n",
              "          await google.colab.kernel.invokeFunction('convertToInteractive',\n",
              "                                                    [key], {});\n",
              "        if (!dataTable) return;\n",
              "\n",
              "        const docLinkHtml = 'Like what you see? Visit the ' +\n",
              "          '<a target=\"_blank\" href=https://colab.research.google.com/notebooks/data_table.ipynb>data table notebook</a>'\n",
              "          + ' to learn more about interactive tables.';\n",
              "        element.innerHTML = '';\n",
              "        dataTable['output_type'] = 'display_data';\n",
              "        await google.colab.output.renderOutput(dataTable, element);\n",
              "        const docLink = document.createElement('div');\n",
              "        docLink.innerHTML = docLinkHtml;\n",
              "        element.appendChild(docLink);\n",
              "      }\n",
              "    </script>\n",
              "  </div>\n",
              "\n",
              "\n",
              "    <div id=\"df-84213b38-f695-4c87-bea8-b51ae2190119\">\n",
              "      <button class=\"colab-df-quickchart\" onclick=\"quickchart('df-84213b38-f695-4c87-bea8-b51ae2190119')\"\n",
              "                title=\"Suggest charts\"\n",
              "                style=\"display:none;\">\n",
              "\n",
              "<svg xmlns=\"http://www.w3.org/2000/svg\" height=\"24px\"viewBox=\"0 0 24 24\"\n",
              "     width=\"24px\">\n",
              "    <g>\n",
              "        <path d=\"M19 3H5c-1.1 0-2 .9-2 2v14c0 1.1.9 2 2 2h14c1.1 0 2-.9 2-2V5c0-1.1-.9-2-2-2zM9 17H7v-7h2v7zm4 0h-2V7h2v10zm4 0h-2v-4h2v4z\"/>\n",
              "    </g>\n",
              "</svg>\n",
              "      </button>\n",
              "\n",
              "<style>\n",
              "  .colab-df-quickchart {\n",
              "      --bg-color: #E8F0FE;\n",
              "      --fill-color: #1967D2;\n",
              "      --hover-bg-color: #E2EBFA;\n",
              "      --hover-fill-color: #174EA6;\n",
              "      --disabled-fill-color: #AAA;\n",
              "      --disabled-bg-color: #DDD;\n",
              "  }\n",
              "\n",
              "  [theme=dark] .colab-df-quickchart {\n",
              "      --bg-color: #3B4455;\n",
              "      --fill-color: #D2E3FC;\n",
              "      --hover-bg-color: #434B5C;\n",
              "      --hover-fill-color: #FFFFFF;\n",
              "      --disabled-bg-color: #3B4455;\n",
              "      --disabled-fill-color: #666;\n",
              "  }\n",
              "\n",
              "  .colab-df-quickchart {\n",
              "    background-color: var(--bg-color);\n",
              "    border: none;\n",
              "    border-radius: 50%;\n",
              "    cursor: pointer;\n",
              "    display: none;\n",
              "    fill: var(--fill-color);\n",
              "    height: 32px;\n",
              "    padding: 0;\n",
              "    width: 32px;\n",
              "  }\n",
              "\n",
              "  .colab-df-quickchart:hover {\n",
              "    background-color: var(--hover-bg-color);\n",
              "    box-shadow: 0 1px 2px rgba(60, 64, 67, 0.3), 0 1px 3px 1px rgba(60, 64, 67, 0.15);\n",
              "    fill: var(--button-hover-fill-color);\n",
              "  }\n",
              "\n",
              "  .colab-df-quickchart-complete:disabled,\n",
              "  .colab-df-quickchart-complete:disabled:hover {\n",
              "    background-color: var(--disabled-bg-color);\n",
              "    fill: var(--disabled-fill-color);\n",
              "    box-shadow: none;\n",
              "  }\n",
              "\n",
              "  .colab-df-spinner {\n",
              "    border: 2px solid var(--fill-color);\n",
              "    border-color: transparent;\n",
              "    border-bottom-color: var(--fill-color);\n",
              "    animation:\n",
              "      spin 1s steps(1) infinite;\n",
              "  }\n",
              "\n",
              "  @keyframes spin {\n",
              "    0% {\n",
              "      border-color: transparent;\n",
              "      border-bottom-color: var(--fill-color);\n",
              "      border-left-color: var(--fill-color);\n",
              "    }\n",
              "    20% {\n",
              "      border-color: transparent;\n",
              "      border-left-color: var(--fill-color);\n",
              "      border-top-color: var(--fill-color);\n",
              "    }\n",
              "    30% {\n",
              "      border-color: transparent;\n",
              "      border-left-color: var(--fill-color);\n",
              "      border-top-color: var(--fill-color);\n",
              "      border-right-color: var(--fill-color);\n",
              "    }\n",
              "    40% {\n",
              "      border-color: transparent;\n",
              "      border-right-color: var(--fill-color);\n",
              "      border-top-color: var(--fill-color);\n",
              "    }\n",
              "    60% {\n",
              "      border-color: transparent;\n",
              "      border-right-color: var(--fill-color);\n",
              "    }\n",
              "    80% {\n",
              "      border-color: transparent;\n",
              "      border-right-color: var(--fill-color);\n",
              "      border-bottom-color: var(--fill-color);\n",
              "    }\n",
              "    90% {\n",
              "      border-color: transparent;\n",
              "      border-bottom-color: var(--fill-color);\n",
              "    }\n",
              "  }\n",
              "</style>\n",
              "\n",
              "      <script>\n",
              "        async function quickchart(key) {\n",
              "          const quickchartButtonEl =\n",
              "            document.querySelector('#' + key + ' button');\n",
              "          quickchartButtonEl.disabled = true;  // To prevent multiple clicks.\n",
              "          quickchartButtonEl.classList.add('colab-df-spinner');\n",
              "          try {\n",
              "            const charts = await google.colab.kernel.invokeFunction(\n",
              "                'suggestCharts', [key], {});\n",
              "          } catch (error) {\n",
              "            console.error('Error during call to suggestCharts:', error);\n",
              "          }\n",
              "          quickchartButtonEl.classList.remove('colab-df-spinner');\n",
              "          quickchartButtonEl.classList.add('colab-df-quickchart-complete');\n",
              "        }\n",
              "        (() => {\n",
              "          let quickchartButtonEl =\n",
              "            document.querySelector('#df-84213b38-f695-4c87-bea8-b51ae2190119 button');\n",
              "          quickchartButtonEl.style.display =\n",
              "            google.colab.kernel.accessAllowed ? 'block' : 'none';\n",
              "        })();\n",
              "      </script>\n",
              "    </div>\n",
              "    </div>\n",
              "  </div>\n"
            ],
            "application/vnd.google.colaboratory.intrinsic+json": {
              "type": "dataframe",
              "variable_name": "df",
              "summary": "{\n  \"name\": \"df\",\n  \"rows\": 120,\n  \"fields\": [\n    {\n      \"column\": \"title\",\n      \"properties\": {\n        \"dtype\": \"string\",\n        \"num_unique_values\": 119,\n        \"samples\": [\n          \"Mushishi Zoku Shou 2nd Season\",\n          \"Ping Pong the Animation\",\n          \"Gintama\\u00b0\"\n        ],\n        \"semantic_type\": \"\",\n        \"description\": \"\"\n      }\n    },\n    {\n      \"column\": \"score\",\n      \"properties\": {\n        \"dtype\": \"number\",\n        \"std\": 1.4134378991232233,\n        \"min\": 4.92,\n        \"max\": 9.3,\n        \"num_unique_values\": 56,\n        \"samples\": [\n          9.3,\n          9.03,\n          8.69\n        ],\n        \"semantic_type\": \"\",\n        \"description\": \"\"\n      }\n    },\n    {\n      \"column\": \"genres\",\n      \"properties\": {\n        \"dtype\": \"object\",\n        \"semantic_type\": \"\",\n        \"description\": \"\"\n      }\n    },\n    {\n      \"column\": \"year\",\n      \"properties\": {\n        \"dtype\": \"number\",\n        \"std\": 8.178074276772286,\n        \"min\": 1980.0,\n        \"max\": 2025.0,\n        \"num_unique_values\": 28,\n        \"samples\": [\n          2008.0,\n          2003.0,\n          2021.0\n        ],\n        \"semantic_type\": \"\",\n        \"description\": \"\"\n      }\n    },\n    {\n      \"column\": \"studio\",\n      \"properties\": {\n        \"dtype\": \"category\",\n        \"num_unique_values\": 39,\n        \"samples\": [\n          \"AIR AGENCY\",\n          \"Groove Corporation\",\n          \"VAP\"\n        ],\n        \"semantic_type\": \"\",\n        \"description\": \"\"\n      }\n    },\n    {\n      \"column\": \"type\",\n      \"properties\": {\n        \"dtype\": \"category\",\n        \"num_unique_values\": 2,\n        \"samples\": [\n          \"low\",\n          \"top\"\n        ],\n        \"semantic_type\": \"\",\n        \"description\": \"\"\n      }\n    }\n  ]\n}"
            }
          },
          "metadata": {},
          "execution_count": 65
        }
      ]
    },
    {
      "cell_type": "code",
      "source": [
        "print(f\"Количество записей про аниме: {len(df)}\")"
      ],
      "metadata": {
        "colab": {
          "base_uri": "https://localhost:8080/"
        },
        "id": "mQ2kun_UYNsr",
        "outputId": "f16c22cb-6cd8-448b-dfbd-381a44ad421e"
      },
      "execution_count": 66,
      "outputs": [
        {
          "output_type": "stream",
          "name": "stdout",
          "text": [
            "Количество записей про аниме: 120\n"
          ]
        }
      ]
    },
    {
      "cell_type": "markdown",
      "source": [
        "Посомтрим на типы данных, которые представлены в датасете"
      ],
      "metadata": {
        "id": "ymrYoDrBA8pJ"
      }
    },
    {
      "cell_type": "code",
      "source": [
        "df.dtypes"
      ],
      "metadata": {
        "colab": {
          "base_uri": "https://localhost:8080/",
          "height": 269
        },
        "id": "IKO385rUA_rV",
        "outputId": "018374d6-f96a-4d35-eed9-4b9012567537"
      },
      "execution_count": 67,
      "outputs": [
        {
          "output_type": "execute_result",
          "data": {
            "text/plain": [
              "title      object\n",
              "score     float64\n",
              "genres     object\n",
              "year      float64\n",
              "studio     object\n",
              "type       object\n",
              "dtype: object"
            ],
            "text/html": [
              "<div>\n",
              "<style scoped>\n",
              "    .dataframe tbody tr th:only-of-type {\n",
              "        vertical-align: middle;\n",
              "    }\n",
              "\n",
              "    .dataframe tbody tr th {\n",
              "        vertical-align: top;\n",
              "    }\n",
              "\n",
              "    .dataframe thead th {\n",
              "        text-align: right;\n",
              "    }\n",
              "</style>\n",
              "<table border=\"1\" class=\"dataframe\">\n",
              "  <thead>\n",
              "    <tr style=\"text-align: right;\">\n",
              "      <th></th>\n",
              "      <th>0</th>\n",
              "    </tr>\n",
              "  </thead>\n",
              "  <tbody>\n",
              "    <tr>\n",
              "      <th>title</th>\n",
              "      <td>object</td>\n",
              "    </tr>\n",
              "    <tr>\n",
              "      <th>score</th>\n",
              "      <td>float64</td>\n",
              "    </tr>\n",
              "    <tr>\n",
              "      <th>genres</th>\n",
              "      <td>object</td>\n",
              "    </tr>\n",
              "    <tr>\n",
              "      <th>year</th>\n",
              "      <td>float64</td>\n",
              "    </tr>\n",
              "    <tr>\n",
              "      <th>studio</th>\n",
              "      <td>object</td>\n",
              "    </tr>\n",
              "    <tr>\n",
              "      <th>type</th>\n",
              "      <td>object</td>\n",
              "    </tr>\n",
              "  </tbody>\n",
              "</table>\n",
              "</div><br><label><b>dtype:</b> object</label>"
            ]
          },
          "metadata": {},
          "execution_count": 67
        }
      ]
    },
    {
      "cell_type": "markdown",
      "source": [
        "Сразу в глаза бросается момент, связанный с жанрами аниме. Они записаны в датафрейм в виде списка. Преобразуем их в единую строку"
      ],
      "metadata": {
        "id": "xlriVb6LXNz8"
      }
    },
    {
      "cell_type": "code",
      "source": [
        "df['genres'] = df['genres'].apply(lambda x: ', '.join(x) if isinstance(x, list) else x)\n",
        "df.head()"
      ],
      "metadata": {
        "colab": {
          "base_uri": "https://localhost:8080/",
          "height": 204
        },
        "id": "mlByFyb-BIUf",
        "outputId": "955616e9-f30a-4299-8b20-ce99dbb5ff8b"
      },
      "execution_count": 68,
      "outputs": [
        {
          "output_type": "execute_result",
          "data": {
            "text/plain": [
              "                                title  score  \\\n",
              "0                   Sousou no Frieren   9.30   \n",
              "1    Fullmetal Alchemist: Brotherhood   9.10   \n",
              "2                         Steins;Gate   9.07   \n",
              "3  Shingeki no Kyojin Season 3 Part 2   9.05   \n",
              "4                            Gintama°   9.05   \n",
              "\n",
              "                              genres    year          studio type  \n",
              "0          Adventure, Drama, Fantasy  2023.0         Aniplex  top  \n",
              "1  Action, Adventure, Drama, Fantasy  2009.0         Aniplex  top  \n",
              "2            Drama, Sci-Fi, Suspense  2011.0  Frontier Works  top  \n",
              "3            Action, Drama, Suspense  2019.0  Production I.G  top  \n",
              "4             Action, Comedy, Sci-Fi  2015.0        TV Tokyo  top  "
            ],
            "text/html": [
              "\n",
              "  <div id=\"df-facff603-8dc1-4a78-8229-1cdfa1fbbedc\" class=\"colab-df-container\">\n",
              "    <div>\n",
              "<style scoped>\n",
              "    .dataframe tbody tr th:only-of-type {\n",
              "        vertical-align: middle;\n",
              "    }\n",
              "\n",
              "    .dataframe tbody tr th {\n",
              "        vertical-align: top;\n",
              "    }\n",
              "\n",
              "    .dataframe thead th {\n",
              "        text-align: right;\n",
              "    }\n",
              "</style>\n",
              "<table border=\"1\" class=\"dataframe\">\n",
              "  <thead>\n",
              "    <tr style=\"text-align: right;\">\n",
              "      <th></th>\n",
              "      <th>title</th>\n",
              "      <th>score</th>\n",
              "      <th>genres</th>\n",
              "      <th>year</th>\n",
              "      <th>studio</th>\n",
              "      <th>type</th>\n",
              "    </tr>\n",
              "  </thead>\n",
              "  <tbody>\n",
              "    <tr>\n",
              "      <th>0</th>\n",
              "      <td>Sousou no Frieren</td>\n",
              "      <td>9.30</td>\n",
              "      <td>Adventure, Drama, Fantasy</td>\n",
              "      <td>2023.0</td>\n",
              "      <td>Aniplex</td>\n",
              "      <td>top</td>\n",
              "    </tr>\n",
              "    <tr>\n",
              "      <th>1</th>\n",
              "      <td>Fullmetal Alchemist: Brotherhood</td>\n",
              "      <td>9.10</td>\n",
              "      <td>Action, Adventure, Drama, Fantasy</td>\n",
              "      <td>2009.0</td>\n",
              "      <td>Aniplex</td>\n",
              "      <td>top</td>\n",
              "    </tr>\n",
              "    <tr>\n",
              "      <th>2</th>\n",
              "      <td>Steins;Gate</td>\n",
              "      <td>9.07</td>\n",
              "      <td>Drama, Sci-Fi, Suspense</td>\n",
              "      <td>2011.0</td>\n",
              "      <td>Frontier Works</td>\n",
              "      <td>top</td>\n",
              "    </tr>\n",
              "    <tr>\n",
              "      <th>3</th>\n",
              "      <td>Shingeki no Kyojin Season 3 Part 2</td>\n",
              "      <td>9.05</td>\n",
              "      <td>Action, Drama, Suspense</td>\n",
              "      <td>2019.0</td>\n",
              "      <td>Production I.G</td>\n",
              "      <td>top</td>\n",
              "    </tr>\n",
              "    <tr>\n",
              "      <th>4</th>\n",
              "      <td>Gintama°</td>\n",
              "      <td>9.05</td>\n",
              "      <td>Action, Comedy, Sci-Fi</td>\n",
              "      <td>2015.0</td>\n",
              "      <td>TV Tokyo</td>\n",
              "      <td>top</td>\n",
              "    </tr>\n",
              "  </tbody>\n",
              "</table>\n",
              "</div>\n",
              "    <div class=\"colab-df-buttons\">\n",
              "\n",
              "  <div class=\"colab-df-container\">\n",
              "    <button class=\"colab-df-convert\" onclick=\"convertToInteractive('df-facff603-8dc1-4a78-8229-1cdfa1fbbedc')\"\n",
              "            title=\"Convert this dataframe to an interactive table.\"\n",
              "            style=\"display:none;\">\n",
              "\n",
              "  <svg xmlns=\"http://www.w3.org/2000/svg\" height=\"24px\" viewBox=\"0 -960 960 960\">\n",
              "    <path d=\"M120-120v-720h720v720H120Zm60-500h600v-160H180v160Zm220 220h160v-160H400v160Zm0 220h160v-160H400v160ZM180-400h160v-160H180v160Zm440 0h160v-160H620v160ZM180-180h160v-160H180v160Zm440 0h160v-160H620v160Z\"/>\n",
              "  </svg>\n",
              "    </button>\n",
              "\n",
              "  <style>\n",
              "    .colab-df-container {\n",
              "      display:flex;\n",
              "      gap: 12px;\n",
              "    }\n",
              "\n",
              "    .colab-df-convert {\n",
              "      background-color: #E8F0FE;\n",
              "      border: none;\n",
              "      border-radius: 50%;\n",
              "      cursor: pointer;\n",
              "      display: none;\n",
              "      fill: #1967D2;\n",
              "      height: 32px;\n",
              "      padding: 0 0 0 0;\n",
              "      width: 32px;\n",
              "    }\n",
              "\n",
              "    .colab-df-convert:hover {\n",
              "      background-color: #E2EBFA;\n",
              "      box-shadow: 0px 1px 2px rgba(60, 64, 67, 0.3), 0px 1px 3px 1px rgba(60, 64, 67, 0.15);\n",
              "      fill: #174EA6;\n",
              "    }\n",
              "\n",
              "    .colab-df-buttons div {\n",
              "      margin-bottom: 4px;\n",
              "    }\n",
              "\n",
              "    [theme=dark] .colab-df-convert {\n",
              "      background-color: #3B4455;\n",
              "      fill: #D2E3FC;\n",
              "    }\n",
              "\n",
              "    [theme=dark] .colab-df-convert:hover {\n",
              "      background-color: #434B5C;\n",
              "      box-shadow: 0px 1px 3px 1px rgba(0, 0, 0, 0.15);\n",
              "      filter: drop-shadow(0px 1px 2px rgba(0, 0, 0, 0.3));\n",
              "      fill: #FFFFFF;\n",
              "    }\n",
              "  </style>\n",
              "\n",
              "    <script>\n",
              "      const buttonEl =\n",
              "        document.querySelector('#df-facff603-8dc1-4a78-8229-1cdfa1fbbedc button.colab-df-convert');\n",
              "      buttonEl.style.display =\n",
              "        google.colab.kernel.accessAllowed ? 'block' : 'none';\n",
              "\n",
              "      async function convertToInteractive(key) {\n",
              "        const element = document.querySelector('#df-facff603-8dc1-4a78-8229-1cdfa1fbbedc');\n",
              "        const dataTable =\n",
              "          await google.colab.kernel.invokeFunction('convertToInteractive',\n",
              "                                                    [key], {});\n",
              "        if (!dataTable) return;\n",
              "\n",
              "        const docLinkHtml = 'Like what you see? Visit the ' +\n",
              "          '<a target=\"_blank\" href=https://colab.research.google.com/notebooks/data_table.ipynb>data table notebook</a>'\n",
              "          + ' to learn more about interactive tables.';\n",
              "        element.innerHTML = '';\n",
              "        dataTable['output_type'] = 'display_data';\n",
              "        await google.colab.output.renderOutput(dataTable, element);\n",
              "        const docLink = document.createElement('div');\n",
              "        docLink.innerHTML = docLinkHtml;\n",
              "        element.appendChild(docLink);\n",
              "      }\n",
              "    </script>\n",
              "  </div>\n",
              "\n",
              "\n",
              "    <div id=\"df-ace96664-30f9-4d7e-a2ce-1f1b84a391fa\">\n",
              "      <button class=\"colab-df-quickchart\" onclick=\"quickchart('df-ace96664-30f9-4d7e-a2ce-1f1b84a391fa')\"\n",
              "                title=\"Suggest charts\"\n",
              "                style=\"display:none;\">\n",
              "\n",
              "<svg xmlns=\"http://www.w3.org/2000/svg\" height=\"24px\"viewBox=\"0 0 24 24\"\n",
              "     width=\"24px\">\n",
              "    <g>\n",
              "        <path d=\"M19 3H5c-1.1 0-2 .9-2 2v14c0 1.1.9 2 2 2h14c1.1 0 2-.9 2-2V5c0-1.1-.9-2-2-2zM9 17H7v-7h2v7zm4 0h-2V7h2v10zm4 0h-2v-4h2v4z\"/>\n",
              "    </g>\n",
              "</svg>\n",
              "      </button>\n",
              "\n",
              "<style>\n",
              "  .colab-df-quickchart {\n",
              "      --bg-color: #E8F0FE;\n",
              "      --fill-color: #1967D2;\n",
              "      --hover-bg-color: #E2EBFA;\n",
              "      --hover-fill-color: #174EA6;\n",
              "      --disabled-fill-color: #AAA;\n",
              "      --disabled-bg-color: #DDD;\n",
              "  }\n",
              "\n",
              "  [theme=dark] .colab-df-quickchart {\n",
              "      --bg-color: #3B4455;\n",
              "      --fill-color: #D2E3FC;\n",
              "      --hover-bg-color: #434B5C;\n",
              "      --hover-fill-color: #FFFFFF;\n",
              "      --disabled-bg-color: #3B4455;\n",
              "      --disabled-fill-color: #666;\n",
              "  }\n",
              "\n",
              "  .colab-df-quickchart {\n",
              "    background-color: var(--bg-color);\n",
              "    border: none;\n",
              "    border-radius: 50%;\n",
              "    cursor: pointer;\n",
              "    display: none;\n",
              "    fill: var(--fill-color);\n",
              "    height: 32px;\n",
              "    padding: 0;\n",
              "    width: 32px;\n",
              "  }\n",
              "\n",
              "  .colab-df-quickchart:hover {\n",
              "    background-color: var(--hover-bg-color);\n",
              "    box-shadow: 0 1px 2px rgba(60, 64, 67, 0.3), 0 1px 3px 1px rgba(60, 64, 67, 0.15);\n",
              "    fill: var(--button-hover-fill-color);\n",
              "  }\n",
              "\n",
              "  .colab-df-quickchart-complete:disabled,\n",
              "  .colab-df-quickchart-complete:disabled:hover {\n",
              "    background-color: var(--disabled-bg-color);\n",
              "    fill: var(--disabled-fill-color);\n",
              "    box-shadow: none;\n",
              "  }\n",
              "\n",
              "  .colab-df-spinner {\n",
              "    border: 2px solid var(--fill-color);\n",
              "    border-color: transparent;\n",
              "    border-bottom-color: var(--fill-color);\n",
              "    animation:\n",
              "      spin 1s steps(1) infinite;\n",
              "  }\n",
              "\n",
              "  @keyframes spin {\n",
              "    0% {\n",
              "      border-color: transparent;\n",
              "      border-bottom-color: var(--fill-color);\n",
              "      border-left-color: var(--fill-color);\n",
              "    }\n",
              "    20% {\n",
              "      border-color: transparent;\n",
              "      border-left-color: var(--fill-color);\n",
              "      border-top-color: var(--fill-color);\n",
              "    }\n",
              "    30% {\n",
              "      border-color: transparent;\n",
              "      border-left-color: var(--fill-color);\n",
              "      border-top-color: var(--fill-color);\n",
              "      border-right-color: var(--fill-color);\n",
              "    }\n",
              "    40% {\n",
              "      border-color: transparent;\n",
              "      border-right-color: var(--fill-color);\n",
              "      border-top-color: var(--fill-color);\n",
              "    }\n",
              "    60% {\n",
              "      border-color: transparent;\n",
              "      border-right-color: var(--fill-color);\n",
              "    }\n",
              "    80% {\n",
              "      border-color: transparent;\n",
              "      border-right-color: var(--fill-color);\n",
              "      border-bottom-color: var(--fill-color);\n",
              "    }\n",
              "    90% {\n",
              "      border-color: transparent;\n",
              "      border-bottom-color: var(--fill-color);\n",
              "    }\n",
              "  }\n",
              "</style>\n",
              "\n",
              "      <script>\n",
              "        async function quickchart(key) {\n",
              "          const quickchartButtonEl =\n",
              "            document.querySelector('#' + key + ' button');\n",
              "          quickchartButtonEl.disabled = true;  // To prevent multiple clicks.\n",
              "          quickchartButtonEl.classList.add('colab-df-spinner');\n",
              "          try {\n",
              "            const charts = await google.colab.kernel.invokeFunction(\n",
              "                'suggestCharts', [key], {});\n",
              "          } catch (error) {\n",
              "            console.error('Error during call to suggestCharts:', error);\n",
              "          }\n",
              "          quickchartButtonEl.classList.remove('colab-df-spinner');\n",
              "          quickchartButtonEl.classList.add('colab-df-quickchart-complete');\n",
              "        }\n",
              "        (() => {\n",
              "          let quickchartButtonEl =\n",
              "            document.querySelector('#df-ace96664-30f9-4d7e-a2ce-1f1b84a391fa button');\n",
              "          quickchartButtonEl.style.display =\n",
              "            google.colab.kernel.accessAllowed ? 'block' : 'none';\n",
              "        })();\n",
              "      </script>\n",
              "    </div>\n",
              "    </div>\n",
              "  </div>\n"
            ],
            "application/vnd.google.colaboratory.intrinsic+json": {
              "type": "dataframe",
              "variable_name": "df",
              "summary": "{\n  \"name\": \"df\",\n  \"rows\": 120,\n  \"fields\": [\n    {\n      \"column\": \"title\",\n      \"properties\": {\n        \"dtype\": \"string\",\n        \"num_unique_values\": 119,\n        \"samples\": [\n          \"Mushishi Zoku Shou 2nd Season\",\n          \"Ping Pong the Animation\",\n          \"Gintama\\u00b0\"\n        ],\n        \"semantic_type\": \"\",\n        \"description\": \"\"\n      }\n    },\n    {\n      \"column\": \"score\",\n      \"properties\": {\n        \"dtype\": \"number\",\n        \"std\": 1.4134378991232233,\n        \"min\": 4.92,\n        \"max\": 9.3,\n        \"num_unique_values\": 56,\n        \"samples\": [\n          9.3,\n          9.03,\n          8.69\n        ],\n        \"semantic_type\": \"\",\n        \"description\": \"\"\n      }\n    },\n    {\n      \"column\": \"genres\",\n      \"properties\": {\n        \"dtype\": \"category\",\n        \"num_unique_values\": 59,\n        \"samples\": [\n          \"Adventure, Drama, Fantasy\",\n          \"Action, Adventure, Fantasy\",\n          \"Action, Drama, Romance\"\n        ],\n        \"semantic_type\": \"\",\n        \"description\": \"\"\n      }\n    },\n    {\n      \"column\": \"year\",\n      \"properties\": {\n        \"dtype\": \"number\",\n        \"std\": 8.178074276772286,\n        \"min\": 1980.0,\n        \"max\": 2025.0,\n        \"num_unique_values\": 28,\n        \"samples\": [\n          2008.0,\n          2003.0,\n          2021.0\n        ],\n        \"semantic_type\": \"\",\n        \"description\": \"\"\n      }\n    },\n    {\n      \"column\": \"studio\",\n      \"properties\": {\n        \"dtype\": \"category\",\n        \"num_unique_values\": 39,\n        \"samples\": [\n          \"AIR AGENCY\",\n          \"Groove Corporation\",\n          \"VAP\"\n        ],\n        \"semantic_type\": \"\",\n        \"description\": \"\"\n      }\n    },\n    {\n      \"column\": \"type\",\n      \"properties\": {\n        \"dtype\": \"category\",\n        \"num_unique_values\": 2,\n        \"samples\": [\n          \"low\",\n          \"top\"\n        ],\n        \"semantic_type\": \"\",\n        \"description\": \"\"\n      }\n    }\n  ]\n}"
            }
          },
          "metadata": {},
          "execution_count": 68
        }
      ]
    },
    {
      "cell_type": "markdown",
      "source": [
        "Теперь удалим дублирующиеся значения"
      ],
      "metadata": {
        "id": "Pjw7a0wQXh3u"
      }
    },
    {
      "cell_type": "code",
      "source": [
        "df = df.drop_duplicates()"
      ],
      "metadata": {
        "id": "3n44PVdkXdw-"
      },
      "execution_count": 69,
      "outputs": []
    },
    {
      "cell_type": "code",
      "source": [
        "print(f\"Количество записей про аниме после удаления дубликатов: {len(df)}\")"
      ],
      "metadata": {
        "colab": {
          "base_uri": "https://localhost:8080/"
        },
        "id": "C7WkDc64YvPW",
        "outputId": "2662d1e3-4128-456e-fe6e-7486a2047efc"
      },
      "execution_count": 70,
      "outputs": [
        {
          "output_type": "stream",
          "name": "stdout",
          "text": [
            "Количество записей про аниме после удаления дубликатов: 119\n"
          ]
        }
      ]
    },
    {
      "cell_type": "markdown",
      "source": [
        "Видимо, были дубликаты :)\n",
        "Одная запись была удалена из датафрейма"
      ],
      "metadata": {
        "id": "yBfs9MTcYzfv"
      }
    },
    {
      "cell_type": "markdown",
      "source": [
        "Следующий шаг - анализ значений в столбцах \"год\" и \"студия\". Там могут быть пустые значения, заполним их. В конце посмотрим на результат"
      ],
      "metadata": {
        "id": "RL-QMG7zXtmB"
      }
    },
    {
      "cell_type": "code",
      "source": [
        "df['studio'] = df['studio'].fillna('Unknown')\n",
        "df = df[df['year'].notna()]"
      ],
      "metadata": {
        "id": "YvTfG8HwXsBO"
      },
      "execution_count": 76,
      "outputs": []
    },
    {
      "cell_type": "code",
      "source": [
        "print(f\"Количество записей после удаления 'year': {len(df)}\")"
      ],
      "metadata": {
        "colab": {
          "base_uri": "https://localhost:8080/"
        },
        "id": "WBulA50kYB_f",
        "outputId": "69fa3cf4-abfe-429f-ba56-efd41158d61d"
      },
      "execution_count": 72,
      "outputs": [
        {
          "output_type": "stream",
          "name": "stdout",
          "text": [
            "Количество записей после удаления 'year': 90\n"
          ]
        }
      ]
    },
    {
      "cell_type": "markdown",
      "source": [
        "Вновь заметим, что были записи с пргопущенными годами. Они бы помешали нашему анализу, поэтому их потеря несет лишь положительный характер"
      ],
      "metadata": {
        "id": "fO0yYln7ZADJ"
      }
    },
    {
      "cell_type": "markdown",
      "source": [
        "Посмотрим на уникальные значения и на распределния частоты употребления нескольких столбцов. Жанры во внимание брать не станем, так как на данный момент они у нас в формате строки с несколькими значенимяии, на этот столбце мы посмотрим на этапе полноценного анализа данных"
      ],
      "metadata": {
        "id": "Q6d524-Ftw0i"
      }
    },
    {
      "cell_type": "code",
      "source": [
        "df['studio'].unique()"
      ],
      "metadata": {
        "colab": {
          "base_uri": "https://localhost:8080/"
        },
        "id": "Ipdnwoa9t1fL",
        "outputId": "f231c312-7919-436e-9685-4896caba038f"
      },
      "execution_count": 108,
      "outputs": [
        {
          "output_type": "execute_result",
          "data": {
            "text/plain": [
              "array(['Aniplex', 'Frontier Works', 'Production I.G', 'TV Tokyo', 'VAP',\n",
              "       'Pony Canyon', 'Bandai Visual', 'Dentsu', 'Shueisha',\n",
              "       'Warner Bros. Japan', 'Mainichi Broadcasting System', 'Annapuru',\n",
              "       'Avex Pictures', 'Fuji TV', 'Lantis',\n",
              "       'Shogakukan-Shueisha Productions', 'Pierrot', 'Avex Entertainment',\n",
              "       'AT-X', 'WOWOW', 'Ultra Super Pictures', 'DAX Production',\n",
              "       'TV Asahi', 'Unknown', '81 Produce', 'Kodansha', 'AIR AGENCY',\n",
              "       'Kadokawa Shoten', 'indigo line', 'Groove Corporation',\n",
              "       'Square Enix', 'KBS'], dtype=object)"
            ]
          },
          "metadata": {},
          "execution_count": 108
        }
      ]
    },
    {
      "cell_type": "code",
      "source": [
        "df['studio'].value_counts()"
      ],
      "metadata": {
        "colab": {
          "base_uri": "https://localhost:8080/",
          "height": 1000
        },
        "id": "D7_8zWGeuJXi",
        "outputId": "a486c2ae-fa5b-4f93-dbd0-eeecb4a75bf8"
      },
      "execution_count": 110,
      "outputs": [
        {
          "output_type": "execute_result",
          "data": {
            "text/plain": [
              "studio\n",
              "Aniplex                            15\n",
              "TV Tokyo                           14\n",
              "Dentsu                              6\n",
              "VAP                                 6\n",
              "Production I.G                      5\n",
              "Unknown                             5\n",
              "AT-X                                4\n",
              "Bandai Visual                       4\n",
              "Mainichi Broadcasting System        2\n",
              "Shogakukan-Shueisha Productions     2\n",
              "Lantis                              2\n",
              "Avex Pictures                       2\n",
              "Frontier Works                      2\n",
              "TV Asahi                            2\n",
              "Pony Canyon                         2\n",
              "Annapuru                            1\n",
              "Fuji TV                             1\n",
              "Shueisha                            1\n",
              "Warner Bros. Japan                  1\n",
              "Pierrot                             1\n",
              "WOWOW                               1\n",
              "Avex Entertainment                  1\n",
              "DAX Production                      1\n",
              "Ultra Super Pictures                1\n",
              "81 Produce                          1\n",
              "Kodansha                            1\n",
              "AIR AGENCY                          1\n",
              "Kadokawa Shoten                     1\n",
              "indigo line                         1\n",
              "Groove Corporation                  1\n",
              "Square Enix                         1\n",
              "KBS                                 1\n",
              "Name: count, dtype: int64"
            ],
            "text/html": [
              "<div>\n",
              "<style scoped>\n",
              "    .dataframe tbody tr th:only-of-type {\n",
              "        vertical-align: middle;\n",
              "    }\n",
              "\n",
              "    .dataframe tbody tr th {\n",
              "        vertical-align: top;\n",
              "    }\n",
              "\n",
              "    .dataframe thead th {\n",
              "        text-align: right;\n",
              "    }\n",
              "</style>\n",
              "<table border=\"1\" class=\"dataframe\">\n",
              "  <thead>\n",
              "    <tr style=\"text-align: right;\">\n",
              "      <th></th>\n",
              "      <th>count</th>\n",
              "    </tr>\n",
              "    <tr>\n",
              "      <th>studio</th>\n",
              "      <th></th>\n",
              "    </tr>\n",
              "  </thead>\n",
              "  <tbody>\n",
              "    <tr>\n",
              "      <th>Aniplex</th>\n",
              "      <td>15</td>\n",
              "    </tr>\n",
              "    <tr>\n",
              "      <th>TV Tokyo</th>\n",
              "      <td>14</td>\n",
              "    </tr>\n",
              "    <tr>\n",
              "      <th>Dentsu</th>\n",
              "      <td>6</td>\n",
              "    </tr>\n",
              "    <tr>\n",
              "      <th>VAP</th>\n",
              "      <td>6</td>\n",
              "    </tr>\n",
              "    <tr>\n",
              "      <th>Production I.G</th>\n",
              "      <td>5</td>\n",
              "    </tr>\n",
              "    <tr>\n",
              "      <th>Unknown</th>\n",
              "      <td>5</td>\n",
              "    </tr>\n",
              "    <tr>\n",
              "      <th>AT-X</th>\n",
              "      <td>4</td>\n",
              "    </tr>\n",
              "    <tr>\n",
              "      <th>Bandai Visual</th>\n",
              "      <td>4</td>\n",
              "    </tr>\n",
              "    <tr>\n",
              "      <th>Mainichi Broadcasting System</th>\n",
              "      <td>2</td>\n",
              "    </tr>\n",
              "    <tr>\n",
              "      <th>Shogakukan-Shueisha Productions</th>\n",
              "      <td>2</td>\n",
              "    </tr>\n",
              "    <tr>\n",
              "      <th>Lantis</th>\n",
              "      <td>2</td>\n",
              "    </tr>\n",
              "    <tr>\n",
              "      <th>Avex Pictures</th>\n",
              "      <td>2</td>\n",
              "    </tr>\n",
              "    <tr>\n",
              "      <th>Frontier Works</th>\n",
              "      <td>2</td>\n",
              "    </tr>\n",
              "    <tr>\n",
              "      <th>TV Asahi</th>\n",
              "      <td>2</td>\n",
              "    </tr>\n",
              "    <tr>\n",
              "      <th>Pony Canyon</th>\n",
              "      <td>2</td>\n",
              "    </tr>\n",
              "    <tr>\n",
              "      <th>Annapuru</th>\n",
              "      <td>1</td>\n",
              "    </tr>\n",
              "    <tr>\n",
              "      <th>Fuji TV</th>\n",
              "      <td>1</td>\n",
              "    </tr>\n",
              "    <tr>\n",
              "      <th>Shueisha</th>\n",
              "      <td>1</td>\n",
              "    </tr>\n",
              "    <tr>\n",
              "      <th>Warner Bros. Japan</th>\n",
              "      <td>1</td>\n",
              "    </tr>\n",
              "    <tr>\n",
              "      <th>Pierrot</th>\n",
              "      <td>1</td>\n",
              "    </tr>\n",
              "    <tr>\n",
              "      <th>WOWOW</th>\n",
              "      <td>1</td>\n",
              "    </tr>\n",
              "    <tr>\n",
              "      <th>Avex Entertainment</th>\n",
              "      <td>1</td>\n",
              "    </tr>\n",
              "    <tr>\n",
              "      <th>DAX Production</th>\n",
              "      <td>1</td>\n",
              "    </tr>\n",
              "    <tr>\n",
              "      <th>Ultra Super Pictures</th>\n",
              "      <td>1</td>\n",
              "    </tr>\n",
              "    <tr>\n",
              "      <th>81 Produce</th>\n",
              "      <td>1</td>\n",
              "    </tr>\n",
              "    <tr>\n",
              "      <th>Kodansha</th>\n",
              "      <td>1</td>\n",
              "    </tr>\n",
              "    <tr>\n",
              "      <th>AIR AGENCY</th>\n",
              "      <td>1</td>\n",
              "    </tr>\n",
              "    <tr>\n",
              "      <th>Kadokawa Shoten</th>\n",
              "      <td>1</td>\n",
              "    </tr>\n",
              "    <tr>\n",
              "      <th>indigo line</th>\n",
              "      <td>1</td>\n",
              "    </tr>\n",
              "    <tr>\n",
              "      <th>Groove Corporation</th>\n",
              "      <td>1</td>\n",
              "    </tr>\n",
              "    <tr>\n",
              "      <th>Square Enix</th>\n",
              "      <td>1</td>\n",
              "    </tr>\n",
              "    <tr>\n",
              "      <th>KBS</th>\n",
              "      <td>1</td>\n",
              "    </tr>\n",
              "  </tbody>\n",
              "</table>\n",
              "</div><br><label><b>dtype:</b> int64</label>"
            ]
          },
          "metadata": {},
          "execution_count": 110
        }
      ]
    },
    {
      "cell_type": "code",
      "source": [
        "df['year'].unique()"
      ],
      "metadata": {
        "colab": {
          "base_uri": "https://localhost:8080/"
        },
        "id": "9mHfbfVVt5BN",
        "outputId": "a36347ef-463b-4fac-eb4a-1d586fbbc9c0"
      },
      "execution_count": 109,
      "outputs": [
        {
          "output_type": "execute_result",
          "data": {
            "text/plain": [
              "array([2023., 2009., 2011., 2019., 2015., 2012., 2022., 2017., 2021.,\n",
              "       2008., 2006., 2004., 2018., 2025., 2020., 2000., 2016., 2013.,\n",
              "       2024., 1998., 1980., 1999., 2014., 2005., 2007., 2003., 2001.,\n",
              "       2002.])"
            ]
          },
          "metadata": {},
          "execution_count": 109
        }
      ]
    },
    {
      "cell_type": "code",
      "source": [
        "df['year'].value_counts()"
      ],
      "metadata": {
        "colab": {
          "base_uri": "https://localhost:8080/",
          "height": 982
        },
        "id": "_Jwb0dj2uTuj",
        "outputId": "b25d5d55-5036-42b4-d58d-be1672008139"
      },
      "execution_count": 111,
      "outputs": [
        {
          "output_type": "execute_result",
          "data": {
            "text/plain": [
              "year\n",
              "2022.0    9\n",
              "2017.0    8\n",
              "2023.0    7\n",
              "2021.0    7\n",
              "2024.0    6\n",
              "2006.0    5\n",
              "2018.0    5\n",
              "2011.0    4\n",
              "2019.0    4\n",
              "2014.0    4\n",
              "2016.0    3\n",
              "2015.0    3\n",
              "2020.0    3\n",
              "2008.0    2\n",
              "2012.0    2\n",
              "2009.0    2\n",
              "2001.0    2\n",
              "2013.0    2\n",
              "1999.0    2\n",
              "2025.0    2\n",
              "2004.0    1\n",
              "2000.0    1\n",
              "1998.0    1\n",
              "1980.0    1\n",
              "2005.0    1\n",
              "2007.0    1\n",
              "2003.0    1\n",
              "2002.0    1\n",
              "Name: count, dtype: int64"
            ],
            "text/html": [
              "<div>\n",
              "<style scoped>\n",
              "    .dataframe tbody tr th:only-of-type {\n",
              "        vertical-align: middle;\n",
              "    }\n",
              "\n",
              "    .dataframe tbody tr th {\n",
              "        vertical-align: top;\n",
              "    }\n",
              "\n",
              "    .dataframe thead th {\n",
              "        text-align: right;\n",
              "    }\n",
              "</style>\n",
              "<table border=\"1\" class=\"dataframe\">\n",
              "  <thead>\n",
              "    <tr style=\"text-align: right;\">\n",
              "      <th></th>\n",
              "      <th>count</th>\n",
              "    </tr>\n",
              "    <tr>\n",
              "      <th>year</th>\n",
              "      <th></th>\n",
              "    </tr>\n",
              "  </thead>\n",
              "  <tbody>\n",
              "    <tr>\n",
              "      <th>2022.0</th>\n",
              "      <td>9</td>\n",
              "    </tr>\n",
              "    <tr>\n",
              "      <th>2017.0</th>\n",
              "      <td>8</td>\n",
              "    </tr>\n",
              "    <tr>\n",
              "      <th>2023.0</th>\n",
              "      <td>7</td>\n",
              "    </tr>\n",
              "    <tr>\n",
              "      <th>2021.0</th>\n",
              "      <td>7</td>\n",
              "    </tr>\n",
              "    <tr>\n",
              "      <th>2024.0</th>\n",
              "      <td>6</td>\n",
              "    </tr>\n",
              "    <tr>\n",
              "      <th>2006.0</th>\n",
              "      <td>5</td>\n",
              "    </tr>\n",
              "    <tr>\n",
              "      <th>2018.0</th>\n",
              "      <td>5</td>\n",
              "    </tr>\n",
              "    <tr>\n",
              "      <th>2011.0</th>\n",
              "      <td>4</td>\n",
              "    </tr>\n",
              "    <tr>\n",
              "      <th>2019.0</th>\n",
              "      <td>4</td>\n",
              "    </tr>\n",
              "    <tr>\n",
              "      <th>2014.0</th>\n",
              "      <td>4</td>\n",
              "    </tr>\n",
              "    <tr>\n",
              "      <th>2016.0</th>\n",
              "      <td>3</td>\n",
              "    </tr>\n",
              "    <tr>\n",
              "      <th>2015.0</th>\n",
              "      <td>3</td>\n",
              "    </tr>\n",
              "    <tr>\n",
              "      <th>2020.0</th>\n",
              "      <td>3</td>\n",
              "    </tr>\n",
              "    <tr>\n",
              "      <th>2008.0</th>\n",
              "      <td>2</td>\n",
              "    </tr>\n",
              "    <tr>\n",
              "      <th>2012.0</th>\n",
              "      <td>2</td>\n",
              "    </tr>\n",
              "    <tr>\n",
              "      <th>2009.0</th>\n",
              "      <td>2</td>\n",
              "    </tr>\n",
              "    <tr>\n",
              "      <th>2001.0</th>\n",
              "      <td>2</td>\n",
              "    </tr>\n",
              "    <tr>\n",
              "      <th>2013.0</th>\n",
              "      <td>2</td>\n",
              "    </tr>\n",
              "    <tr>\n",
              "      <th>1999.0</th>\n",
              "      <td>2</td>\n",
              "    </tr>\n",
              "    <tr>\n",
              "      <th>2025.0</th>\n",
              "      <td>2</td>\n",
              "    </tr>\n",
              "    <tr>\n",
              "      <th>2004.0</th>\n",
              "      <td>1</td>\n",
              "    </tr>\n",
              "    <tr>\n",
              "      <th>2000.0</th>\n",
              "      <td>1</td>\n",
              "    </tr>\n",
              "    <tr>\n",
              "      <th>1998.0</th>\n",
              "      <td>1</td>\n",
              "    </tr>\n",
              "    <tr>\n",
              "      <th>1980.0</th>\n",
              "      <td>1</td>\n",
              "    </tr>\n",
              "    <tr>\n",
              "      <th>2005.0</th>\n",
              "      <td>1</td>\n",
              "    </tr>\n",
              "    <tr>\n",
              "      <th>2007.0</th>\n",
              "      <td>1</td>\n",
              "    </tr>\n",
              "    <tr>\n",
              "      <th>2003.0</th>\n",
              "      <td>1</td>\n",
              "    </tr>\n",
              "    <tr>\n",
              "      <th>2002.0</th>\n",
              "      <td>1</td>\n",
              "    </tr>\n",
              "  </tbody>\n",
              "</table>\n",
              "</div><br><label><b>dtype:</b> int64</label>"
            ]
          },
          "metadata": {},
          "execution_count": 111
        }
      ]
    },
    {
      "cell_type": "markdown",
      "source": [
        "Теперь поработаем с заголовками, очистим их от символов и сделам текст более читабельным, для этого:\n",
        "- Приведем к нижнему регистру\n",
        "- Удалим символы, кроме букв и цифр\n",
        "- Удалим лишние пробелы"
      ],
      "metadata": {
        "id": "PEKEwSrvZa64"
      }
    },
    {
      "cell_type": "code",
      "source": [
        "def clean_title(title):\n",
        "    if not isinstance(title, str):\n",
        "        return title\n",
        "    title = title.lower()\n",
        "    title = re.sub(r'[^a-z0-9а-яё\\s]', '', title)\n",
        "    title = re.sub(r'\\s+', ' ', title).strip()\n",
        "    return title"
      ],
      "metadata": {
        "id": "3DZqWQwsZwP_"
      },
      "execution_count": 73,
      "outputs": []
    },
    {
      "cell_type": "code",
      "source": [
        "df['title'] = df['title'].apply(clean_title)"
      ],
      "metadata": {
        "id": "cKyl8iUMaHl-"
      },
      "execution_count": 74,
      "outputs": []
    },
    {
      "cell_type": "markdown",
      "source": [
        "На этом этап очистки и подготовки данных к анадлизу закончен. Все действия помогли получить чистый набор данных, готовый для дальнейшей визуализации и анализа. Без качественной подготовки любой анализ был бы ненадёжным или искажённым"
      ],
      "metadata": {
        "id": "UTcuCZUiaMtn"
      }
    },
    {
      "cell_type": "markdown",
      "metadata": {
        "id": "415de5ad-3eb9-4de6-b63a-1080664d704e"
      },
      "source": [
        "## Анализ и визуализация"
      ]
    },
    {
      "cell_type": "markdown",
      "source": [
        "### Топ-10 самых популярных жанров"
      ],
      "metadata": {
        "id": "vJkJnKUXdJ3c"
      }
    },
    {
      "cell_type": "markdown",
      "source": [
        "Посмотрим, как распределяются жанры аниме.  Чтобы понять, какие жанры наиболее распространены в нашем наборе данных, визуализируем их распределение. Сразу возбмем топ-10 самых популярных"
      ],
      "metadata": {
        "id": "H_HVLkGVDH7h"
      }
    },
    {
      "cell_type": "code",
      "source": [
        "df_genres = df['genres'].str.split(', ', expand=True).stack().reset_index(level=1, drop=True)\n",
        "top_genres = df_genres.value_counts().head(10)\n",
        "\n",
        "plt.figure(figsize=(10, 6))\n",
        "sns.barplot(x=top_genres.values, y=top_genres.index, palette='magma')\n",
        "plt.title('Распределение жанров аниме')\n",
        "plt.xlabel('Количество')\n",
        "plt.ylabel('Жанр')\n",
        "plt.tight_layout()\n",
        "plt.savefig('top_genres.png', format='PNG', dpi=300)\n",
        "plt.show()"
      ],
      "metadata": {
        "colab": {
          "base_uri": "https://localhost:8080/",
          "height": 712
        },
        "id": "462JjL6Mb5fi",
        "outputId": "0f060e07-f675-4758-f5f9-1eccfa935f92"
      },
      "execution_count": 89,
      "outputs": [
        {
          "output_type": "stream",
          "name": "stderr",
          "text": [
            "<ipython-input-89-662b01fded94>:5: FutureWarning: \n",
            "\n",
            "Passing `palette` without assigning `hue` is deprecated and will be removed in v0.14.0. Assign the `y` variable to `hue` and set `legend=False` for the same effect.\n",
            "\n",
            "  sns.barplot(x=top_genres.values, y=top_genres.index, palette='magma')\n"
          ]
        },
        {
          "output_type": "display_data",
          "data": {
            "text/plain": [
              "<Figure size 1000x600 with 1 Axes>"
            ],
            "image/png": "[encoded data removed]"
          },
          "metadata": {}
        }
      ]
    },
    {
      "cell_type": "markdown",
      "source": [
        "Сразу в глаза бросается, что Action, Drama, Comedy и Adventure больше всего встречаются среди самыз популярных аниме"
      ],
      "metadata": {
        "id": "twoaU5VVc6Va"
      }
    },
    {
      "cell_type": "markdown",
      "source": [
        "### Какие студии чаще всего выпускали аниме"
      ],
      "metadata": {
        "id": "vkSAxCNxdzKG"
      }
    },
    {
      "cell_type": "markdown",
      "source": [
        "Здесь мы подсчитаем, сколько аниме выпустила каждая студия, и визуализируем топ-10 студий"
      ],
      "metadata": {
        "id": "8rou-8Bod-mp"
      }
    },
    {
      "cell_type": "code",
      "source": [
        "studio_counts = df['studio'].value_counts().head(10)\n",
        "\n",
        "plt.figure(figsize=(10, 6))\n",
        "sns.barplot(x=studio_counts.values, y=studio_counts.index, palette='coolwarm')\n",
        "plt.title('Распределение студий по количеству выпущенных аниме')\n",
        "plt.xlabel('Количество')\n",
        "plt.ylabel('Студия')\n",
        "plt.tight_layout()\n",
        "plt.savefig('top_studios.png', format='PNG', dpi=300)\n",
        "plt.show()"
      ],
      "metadata": {
        "colab": {
          "base_uri": "https://localhost:8080/",
          "height": 712
        },
        "id": "bevQRv9dddWC",
        "outputId": "af72c2fd-6701-4c97-a3d8-d3ee5e4dd641"
      },
      "execution_count": 102,
      "outputs": [
        {
          "output_type": "stream",
          "name": "stderr",
          "text": [
            "<ipython-input-102-310359d85841>:4: FutureWarning: \n",
            "\n",
            "Passing `palette` without assigning `hue` is deprecated and will be removed in v0.14.0. Assign the `y` variable to `hue` and set `legend=False` for the same effect.\n",
            "\n",
            "  sns.barplot(x=studio_counts.values, y=studio_counts.index, palette='coolwarm')\n"
          ]
        },
        {
          "output_type": "display_data",
          "data": {
            "text/plain": [
              "<Figure size 1000x600 with 1 Axes>"
            ],
            "image/png": "[encoded data removed]"
          },
          "metadata": {}
        }
      ]
    },
    {
      "cell_type": "markdown",
      "source": [
        "Заметно, что студии Aniplex и TV Tokyo занимают лидирующие позиции. Это и не удивительно, так как эти студии имеют множество проектов. Aniplex —  студия, известная своими популярными проектами, такими как \"Demon Slayer\" и \"Fate\". А TV Tokyo — это одна из ведущих японских телевизионных компаний, часто являющаяся частью или партнёром для множества аниме"
      ],
      "metadata": {
        "id": "R6uZDAIbeBAz"
      }
    },
    {
      "cell_type": "markdown",
      "source": [
        "### Года с наибольшим колчиеством успешных проектов"
      ],
      "metadata": {
        "id": "OlyJY-4Eeclq"
      }
    },
    {
      "cell_type": "markdown",
      "source": [
        "Теперь проанализируем, в какие года было выпущено больше всего аниме, которые занимают лидирующие позиции"
      ],
      "metadata": {
        "id": "XcU60v_dekht"
      }
    },
    {
      "cell_type": "code",
      "source": [
        "year_counts = df['year'].value_counts().sort_index()\n",
        "\n",
        "plt.figure(figsize=(12, 6))\n",
        "sns.lineplot(x=year_counts.index, y=year_counts.values, marker='o')\n",
        "plt.title('Количество успешно выпущенного аниме по годам')\n",
        "plt.xlabel('Год')\n",
        "plt.ylabel('Количество')\n",
        "plt.grid(True)\n",
        "plt.tight_layout()\n",
        "plt.savefig('years.png', format='PNG', dpi=300)\n",
        "plt.show()"
      ],
      "metadata": {
        "colab": {
          "base_uri": "https://localhost:8080/",
          "height": 607
        },
        "id": "6ogn-V6jepzf",
        "outputId": "bfab3d40-f2f9-4fed-dd52-129be07381d9"
      },
      "execution_count": 104,
      "outputs": [
        {
          "output_type": "display_data",
          "data": {
            "text/plain": [
              "<Figure size 1200x600 with 1 Axes>"
            ],
            "image/png": "[encoded data removed]"
          },
          "metadata": {}
        }
      ]
    },
    {
      "cell_type": "markdown",
      "source": [
        "По графику видно, что в 90е и 00е было мало успешных проектов, а вот с 2006 начинается прирост, самый пик приходится на 2017-2024 года. Тут прям заметен рост числа успешных проектов, особенно в 2022 году"
      ],
      "metadata": {
        "id": "moJA7zwbe5Na"
      }
    },
    {
      "cell_type": "markdown",
      "source": [
        "### Топ-3 жанра для каждой студии"
      ],
      "metadata": {
        "id": "tVzYMFjOfWqS"
      }
    },
    {
      "cell_type": "markdown",
      "source": [
        "Посмотрим на распределение жанров по студиям. Были выбраны 10 самых популярных жанров и 5 студий, выпустивших наибольшее количество аниме.\n",
        "\n",
        "Если кратко пройтись по коду: жанры были разделены с помощью метода str.split(', ') и преобразованы в Series. Далее они были сопоставлены со студиями, после чего выбраны топ-10 жанров и топ-5 студий. Сгруппированы данные по жанрам и студиям, посчитано количество аниме"
      ],
      "metadata": {
        "id": "tCfX1Vknfbdk"
      }
    },
    {
      "cell_type": "code",
      "source": [
        "genres = df['genres'].str.split(', ', expand=True).stack().reset_index(level=1, drop=True)\n",
        "studio_genre_df = df[['studio']].join(genre_series.rename('genre'))\n",
        "\n",
        "top_10_genres = studio_genre_df['genre'].value_counts().head(10).index\n",
        "filtered = studio_genre_df[studio_genre_df['genre'].isin(top_10_genres)]\n",
        "\n",
        "top_5_studios = filtered['studio'].value_counts().head(5).index\n",
        "filtered = filtered[filtered['studio'].isin(top_5_studios)]\n",
        "\n",
        "grouped = filtered.groupby(['genre', 'studio']).size().reset_index(name='count')\n",
        "\n",
        "plt.figure(figsize=(12, 8))\n",
        "sns.barplot(x='genre', y='count', hue='studio', data=grouped, palette='magma')\n",
        "plt.title('ТОП-10 жанров и ТОП-5 студий')\n",
        "plt.xlabel('Жанр')\n",
        "plt.ylabel('Количество')\n",
        "plt.xticks(rotation=45)\n",
        "plt.tight_layout()\n",
        "plt.savefig('top_genres_and_studios.png', format='PNG', dpi=300)\n",
        "plt.show()"
      ],
      "metadata": {
        "colab": {
          "base_uri": "https://localhost:8080/",
          "height": 807
        },
        "id": "WnPBkDBvfemN",
        "outputId": "08e7add5-a90d-4676-e453-2ebd7fb5f27f"
      },
      "execution_count": 105,
      "outputs": [
        {
          "output_type": "display_data",
          "data": {
            "text/plain": [
              "<Figure size 1200x800 with 1 Axes>"
            ],
            "image/png": "[encoded data removed]"
          },
          "metadata": {}
        }
      ]
    },
    {
      "cell_type": "markdown",
      "source": [
        "Получился неплохой график с наглядым распределением. Что сразу бросается в глаза:\n",
        "- Всего 3 жанра экранизируются сразу всеми популярными студиями, это Action, Adventure, Drama\n",
        "- Comedy и Sport жанры самые менее востребованные\n",
        "- ВИдно, что студия TV Tokyo сняла в жанрах Action, Sci-Fi, Comedy и Supernatural самое большое число успешных проектов (о чем говорят сильрные выбросы на графике)"
      ],
      "metadata": {
        "id": "Qf_upN0chRiw"
      }
    },
    {
      "cell_type": "markdown",
      "source": [
        "### Аниме с самым низким рейтингом"
      ],
      "metadata": {
        "id": "K8JnENGyOhi_"
      }
    },
    {
      "cell_type": "markdown",
      "source": [
        "Отдельный раздел посвятим аниме с самым низким рейтингом. Посомтрим, в какие года оно выпускалось, какими студиями и в каких жанрах"
      ],
      "metadata": {
        "id": "OwuHZMNMOkV5"
      }
    },
    {
      "cell_type": "code",
      "source": [
        "worst_anime = df.nsmallest(20, 'score')\n",
        "\n",
        "genres = worst_anime['genres'].str.split(', ', expand=True).stack().reset_index(level=1, drop=True)\n",
        "\n",
        "plt.figure(figsize=(10, 5))\n",
        "sns.countplot(y=genres, order=genres.value_counts().index, palette='Reds_r')\n",
        "plt.title('Жанры среди 20 аниме с самым низким рейтингом')\n",
        "plt.xlabel('Количество')\n",
        "plt.ylabel('Жанр')\n",
        "plt.tight_layout()\n",
        "plt.savefig('worst_anime_genres.png', format='PNG', dpi=300)\n",
        "plt.show()"
      ],
      "metadata": {
        "colab": {
          "base_uri": "https://localhost:8080/",
          "height": 612
        },
        "id": "_PuyLvFDOkrR",
        "outputId": "6f629f80-9f63-4c77-a474-af3cde1c0615"
      },
      "execution_count": 99,
      "outputs": [
        {
          "output_type": "stream",
          "name": "stderr",
          "text": [
            "<ipython-input-99-89e262e3160f>:6: FutureWarning: \n",
            "\n",
            "Passing `palette` without assigning `hue` is deprecated and will be removed in v0.14.0. Assign the `y` variable to `hue` and set `legend=False` for the same effect.\n",
            "\n",
            "  sns.countplot(y=genres, order=genres.value_counts().index, palette='Reds_r')\n"
          ]
        },
        {
          "output_type": "display_data",
          "data": {
            "text/plain": [
              "<Figure size 1000x500 with 1 Axes>"
            ],
            "image/png": "[encoded data removed]"
          },
          "metadata": {}
        }
      ]
    },
    {
      "cell_type": "code",
      "source": [
        "plt.figure(figsize=(10, 5))\n",
        "sns.countplot(y=worst_anime['studio'], order=worst_anime['studio'].value_counts().index, palette='Oranges')\n",
        "plt.title('Студии, выпустившие худшие аниме (по рейтингу)')\n",
        "plt.xlabel('Количество')\n",
        "plt.ylabel('Студия')\n",
        "plt.tight_layout()\n",
        "plt.savefig('worst_anime_studios.png', format='PNG', dpi=300)\n",
        "plt.show()"
      ],
      "metadata": {
        "colab": {
          "base_uri": "https://localhost:8080/",
          "height": 612
        },
        "id": "_2kU8nbEioiq",
        "outputId": "0db2f384-7fff-46bb-a0b7-9d14fce03349"
      },
      "execution_count": 98,
      "outputs": [
        {
          "output_type": "stream",
          "name": "stderr",
          "text": [
            "<ipython-input-98-8616dc35dd31>:2: FutureWarning: \n",
            "\n",
            "Passing `palette` without assigning `hue` is deprecated and will be removed in v0.14.0. Assign the `y` variable to `hue` and set `legend=False` for the same effect.\n",
            "\n",
            "  sns.countplot(y=worst_anime['studio'], order=worst_anime['studio'].value_counts().index, palette='Oranges')\n"
          ]
        },
        {
          "output_type": "display_data",
          "data": {
            "text/plain": [
              "<Figure size 1000x500 with 1 Axes>"
            ],
            "image/png": "[encoded data removed]"
          },
          "metadata": {}
        }
      ]
    },
    {
      "cell_type": "code",
      "source": [
        "plt.figure(figsize=(10, 5))\n",
        "sns.countplot(y=worst_anime['year'], order=worst_anime['year'].value_counts().index, palette='Purples')\n",
        "plt.title('Годы выхода худших аниме')\n",
        "plt.xlabel('Количество')\n",
        "plt.ylabel('Год')\n",
        "plt.tight_layout()\n",
        "plt.savefig('worst_anime_years.png', format='PNG', dpi=300)\n",
        "plt.show()"
      ],
      "metadata": {
        "colab": {
          "base_uri": "https://localhost:8080/",
          "height": 612
        },
        "id": "ZspxYfrJivHe",
        "outputId": "9354572f-b166-438e-b78c-bd18f3e1f114"
      },
      "execution_count": 100,
      "outputs": [
        {
          "output_type": "stream",
          "name": "stderr",
          "text": [
            "<ipython-input-100-86242991e4f1>:2: FutureWarning: \n",
            "\n",
            "Passing `palette` without assigning `hue` is deprecated and will be removed in v0.14.0. Assign the `y` variable to `hue` and set `legend=False` for the same effect.\n",
            "\n",
            "  sns.countplot(y=worst_anime['year'], order=worst_anime['year'].value_counts().index, palette='Purples')\n"
          ]
        },
        {
          "output_type": "display_data",
          "data": {
            "text/plain": [
              "<Figure size 1000x500 with 1 Axes>"
            ],
            "image/png": "[encoded data removed]"
          },
          "metadata": {}
        }
      ]
    },
    {
      "cell_type": "markdown",
      "source": [
        "Так ак выборка была небольшая, всего 20 аниме с рейтингом около 5, результат получился не самый точный с точки зрения анализа, однако сделаем выводы на основе графиков:\n",
        "- В результате Comedy жанр сильно лидирует среди аниме с низким рейтингом. Это интересное наблюдение, так как он лидирует и среди самых популярных. Таким обращзом, направшивается вывод, что комедийный жанр в принципе один из самых популярных среди аниме\n",
        "- Изначально пустые значения в столбце \"studio\" были заменены, это и отпразилось на графике. Можно увидеть, что \"ноунеймовские\" аниме чаще всего получзуются низким спросом :)\n",
        "- График распределния годов оказался самым простым и не инфомарционно емким. Небольшйо отрыв у 2017 года (3 значения), а оставшиеся года забрали себе либо 2, либо 1 значение. Конкреного вывода сделать нельяза, выборка и правда маленькая, но на основе графика - 2017 год был не только резким скачком хорошего аниме, но и скачком для невостребованного аниме"
      ],
      "metadata": {
        "id": "_kVwsu18jeiW"
      }
    },
    {
      "cell_type": "markdown",
      "metadata": {
        "id": "959bca5a-bc93-44ff-a973-a33b100d30d3"
      },
      "source": [
        "## Выводы"
      ]
    },
    {
      "cell_type": "markdown",
      "metadata": {
        "id": "3a2284ed-626d-49a3-9deb-392935e0bd31"
      },
      "source": [
        "Основные выводы из глубокого анализа:\n",
        "\n",
        "- Наиболее популярные жанры среди успешных аниме — это Action, Drama, Comedy и Adventure. Эти жанры наиболее часто встречаются в лучших проектах.\n",
        "Жанр Comedy, несмотря на свою высокую распространённость в общем списке, одновременно является лидером среди низкорейтинговых аниме.\n",
        "\n",
        "- Студии Aniplex, TV Tokyo, Madhouse, Bones и Toei Animation оказались наиболее продуктивными в рамках топ-100. Это крупные и признанные компании, которые снимают лучшее аниме по мнению зрителей. TV Tokyo особенно выделяется своим вкладом в жанры Action, Comedy, Supernatural и Sci-Fi.\n",
        "- Также студии имеют свою жанровую специализацию (например, Bones часто работает с жанрами Sci-Fi и Supernatural). И только три жанра (Action, Drama, Adventure) встречаются у всех лидирующих студий.\n",
        "\n",
        "- Бум популярности аниме начинается с 2010-х годов, с резким приростом количества высокорейтинговых проектов с 2016 по 2022 годы. Особенно заметен пик в 2022 году. Причины этому: рост интереса к аниме за пределами Японии, активное развитие стриминговых платформ (Netflix, Crunchyroll), улучшение технологий производства.\n",
        "\n",
        "- Интересным результатом исследования стал тот факт, что 2017 год также попал в список как активный и по числу аниме с низким рейтингом\n",
        "\n",
        "- В списке из 20 аниме с наименьшим рейтингом наиболее частый жанр — Comedy, что подтверждает его неоднозначность. Студии, снимавшие эти проекты, часто неизвестны. Года выпуска не концентрируются в одном периоде, но 2017 год оказался наиболее представленным среди неуспешных проектов."
      ]
    },
    {
      "cell_type": "markdown",
      "metadata": {
        "id": "efe8a978-a5ce-4254-9eac-1e9df846a2d5"
      },
      "source": [
        "## Обсуждение"
      ]
    },
    {
      "cell_type": "markdown",
      "source": [
        "\n",
        "Проведённый анализ данных о топ-100 аниме и 20 низкорейтинговых проектах с сайта MyAnimeList позволил получить ряд значимых наблюдений о жанровых предпочтениях, активности студий, временной динамике и типичных признаках как успешных, так и провальных аниме-сериалов.\n",
        "\n",
        "Проект включал этапы очистки и подготовки данных, что обеспечило корректность последующего анализа. Были выделены наиболее популярные жанры (Action, Drama, Adventure), определены ведущие студии, такие как Aniplex и TV Tokyo, а также проанализированы временные тренды, показавшие рост интереса к аниме с 2010-х годов.\n",
        "\n",
        "Дополнительный акцент был сделан на изучении аниме с низким рейтингом, что позволило взглянуть на индустрию с другой стороны.\n",
        "\n",
        "Успех аниме часто определяется тремя основными факторами: выбор жанра, студия-производитель и год выпуска. Именно проведенный статистический и визуальный анализ предоставил возможность для более глубокого исследования успешности аниме по входным признакам.\n",
        "\n",
        "Таким образом, данный анализ позволил не только структурировать ключевые характеристики успешных аниме, но и может стать основой для более глубокой аналитики в сфере аниме, а также для построения рекомендаций по созданию контента, ориентированного на широкую аудиторию"
      ],
      "metadata": {
        "id": "85th4I-wYlzr"
      }
    }
  ]
}